{
  "nbformat": 4,
  "nbformat_minor": 0,
  "metadata": {
    "colab": {
      "provenance": [],
      "collapsed_sections": [],
      "authorship_tag": "ABX9TyPlEqjdksiYanXlxkeMssNv",
      "include_colab_link": true
    },
    "kernelspec": {
      "name": "python3",
      "display_name": "Python 3"
    },
    "language_info": {
      "name": "python"
    }
  },
  "cells": [
    {
      "cell_type": "markdown",
      "metadata": {
        "id": "view-in-github",
        "colab_type": "text"
      },
      "source": [
        "<a href=\"https://colab.research.google.com/github/GaddameediSaipriya/ViratCricket/blob/main/virat2.ipynb\" target=\"_parent\"><img src=\"https://colab.research.google.com/assets/colab-badge.svg\" alt=\"Open In Colab\"/></a>"
      ]
    },
    {
      "cell_type": "code",
      "execution_count": null,
      "metadata": {
        "colab": {
          "base_uri": "https://localhost:8080/",
          "height": 832
        },
        "id": "F6fzemHXrTau",
        "outputId": "2215ef51-8d38-493e-809f-8b14da3fc286"
      },
      "outputs": [
        {
          "output_type": "execute_result",
          "data": {
            "text/plain": [
              "    Score Out/Not Out       Against  Batting Order  Inn.  Strike Rate  \\\n",
              "0     116         Out     Australia              6     2          NaN   \n",
              "1     103         Out   New Zealand              5     2          NaN   \n",
              "2     103         Out       England              5     2          NaN   \n",
              "3     107         Out     Australia              5     2          NaN   \n",
              "4     119         Out  South Africa              4     1          NaN   \n",
              "..    ...         ...           ...            ...   ...          ...   \n",
              "66    116         Out     Australia              3     1        96.67   \n",
              "67    123         Out     Australia              3     2       129.47   \n",
              "68    120         Out   West Indies              3     1        96.00   \n",
              "69    114     Not Out   West Indies              3     2       115.15   \n",
              "70    122     Not Out    Afganistan              1     1       200.00   \n",
              "\n",
              "                                   Venue         Column1   H/A        Date  \\\n",
              "0                          Adelaide Oval        Adelaide  Away  24-01-2012   \n",
              "1                 M. Chinnaswamy Stadium       Bangalore  Home  31-08-2012   \n",
              "2   Vidarbha Cricket Association Stadium          Nagpur  Home  13-12-2012   \n",
              "3              M. A. Chidambaram Stadium         Chennai  Home  22-02-2013   \n",
              "4                      Wanderers Stadium    Johannesburg  Away  18-12-2013   \n",
              "..                                   ...             ...   ...         ...   \n",
              "66  Vidarbha Cricket Association Stadium          Nagpur  Home  05-03-2019   \n",
              "67            JSCA International Stadium          Ranchi  Home  08-03-2019   \n",
              "68                     Queen's Park Oval   Port of Spain  Away  11-08-2019   \n",
              "69                     Queen's Park Oval   Port of Spain  Away  14-08-2019   \n",
              "70   Dubai International Cricket Stadium           Dubai  Away  08-09-2022   \n",
              "\n",
              "   Result Format Man of the Match Captain  Unnamed: 14  \n",
              "0    Lost   Test               No      No          NaN  \n",
              "1     Won   Test              Yes      No          NaN  \n",
              "2   Drawn   Test               No      No          NaN  \n",
              "3     Won   Test               No      No          NaN  \n",
              "4   Drawn   Test               No      No          NaN  \n",
              "..    ...    ...              ...     ...          ...  \n",
              "66    Won    ODI              Yes     Yes          NaN  \n",
              "67   Lost    ODI               No     Yes          NaN  \n",
              "68    Won    ODI              Yes     Yes          NaN  \n",
              "69    Won    ODI              Yes     Yes          NaN  \n",
              "70    Won   T20I              Yes      No          NaN  \n",
              "\n",
              "[71 rows x 15 columns]"
            ],
            "text/html": [
              "\n",
              "  <div id=\"df-a4863bd8-ed63-4d8e-939c-a1cd511f8dcc\">\n",
              "    <div class=\"colab-df-container\">\n",
              "      <div>\n",
              "<style scoped>\n",
              "    .dataframe tbody tr th:only-of-type {\n",
              "        vertical-align: middle;\n",
              "    }\n",
              "\n",
              "    .dataframe tbody tr th {\n",
              "        vertical-align: top;\n",
              "    }\n",
              "\n",
              "    .dataframe thead th {\n",
              "        text-align: right;\n",
              "    }\n",
              "</style>\n",
              "<table border=\"1\" class=\"dataframe\">\n",
              "  <thead>\n",
              "    <tr style=\"text-align: right;\">\n",
              "      <th></th>\n",
              "      <th>Score</th>\n",
              "      <th>Out/Not Out</th>\n",
              "      <th>Against</th>\n",
              "      <th>Batting Order</th>\n",
              "      <th>Inn.</th>\n",
              "      <th>Strike Rate</th>\n",
              "      <th>Venue</th>\n",
              "      <th>Column1</th>\n",
              "      <th>H/A</th>\n",
              "      <th>Date</th>\n",
              "      <th>Result</th>\n",
              "      <th>Format</th>\n",
              "      <th>Man of the Match</th>\n",
              "      <th>Captain</th>\n",
              "      <th>Unnamed: 14</th>\n",
              "    </tr>\n",
              "  </thead>\n",
              "  <tbody>\n",
              "    <tr>\n",
              "      <th>0</th>\n",
              "      <td>116</td>\n",
              "      <td>Out</td>\n",
              "      <td>Australia</td>\n",
              "      <td>6</td>\n",
              "      <td>2</td>\n",
              "      <td>NaN</td>\n",
              "      <td>Adelaide Oval</td>\n",
              "      <td>Adelaide</td>\n",
              "      <td>Away</td>\n",
              "      <td>24-01-2012</td>\n",
              "      <td>Lost</td>\n",
              "      <td>Test</td>\n",
              "      <td>No</td>\n",
              "      <td>No</td>\n",
              "      <td>NaN</td>\n",
              "    </tr>\n",
              "    <tr>\n",
              "      <th>1</th>\n",
              "      <td>103</td>\n",
              "      <td>Out</td>\n",
              "      <td>New Zealand</td>\n",
              "      <td>5</td>\n",
              "      <td>2</td>\n",
              "      <td>NaN</td>\n",
              "      <td>M. Chinnaswamy Stadium</td>\n",
              "      <td>Bangalore</td>\n",
              "      <td>Home</td>\n",
              "      <td>31-08-2012</td>\n",
              "      <td>Won</td>\n",
              "      <td>Test</td>\n",
              "      <td>Yes</td>\n",
              "      <td>No</td>\n",
              "      <td>NaN</td>\n",
              "    </tr>\n",
              "    <tr>\n",
              "      <th>2</th>\n",
              "      <td>103</td>\n",
              "      <td>Out</td>\n",
              "      <td>England</td>\n",
              "      <td>5</td>\n",
              "      <td>2</td>\n",
              "      <td>NaN</td>\n",
              "      <td>Vidarbha Cricket Association Stadium</td>\n",
              "      <td>Nagpur</td>\n",
              "      <td>Home</td>\n",
              "      <td>13-12-2012</td>\n",
              "      <td>Drawn</td>\n",
              "      <td>Test</td>\n",
              "      <td>No</td>\n",
              "      <td>No</td>\n",
              "      <td>NaN</td>\n",
              "    </tr>\n",
              "    <tr>\n",
              "      <th>3</th>\n",
              "      <td>107</td>\n",
              "      <td>Out</td>\n",
              "      <td>Australia</td>\n",
              "      <td>5</td>\n",
              "      <td>2</td>\n",
              "      <td>NaN</td>\n",
              "      <td>M. A. Chidambaram Stadium</td>\n",
              "      <td>Chennai</td>\n",
              "      <td>Home</td>\n",
              "      <td>22-02-2013</td>\n",
              "      <td>Won</td>\n",
              "      <td>Test</td>\n",
              "      <td>No</td>\n",
              "      <td>No</td>\n",
              "      <td>NaN</td>\n",
              "    </tr>\n",
              "    <tr>\n",
              "      <th>4</th>\n",
              "      <td>119</td>\n",
              "      <td>Out</td>\n",
              "      <td>South Africa</td>\n",
              "      <td>4</td>\n",
              "      <td>1</td>\n",
              "      <td>NaN</td>\n",
              "      <td>Wanderers Stadium</td>\n",
              "      <td>Johannesburg</td>\n",
              "      <td>Away</td>\n",
              "      <td>18-12-2013</td>\n",
              "      <td>Drawn</td>\n",
              "      <td>Test</td>\n",
              "      <td>No</td>\n",
              "      <td>No</td>\n",
              "      <td>NaN</td>\n",
              "    </tr>\n",
              "    <tr>\n",
              "      <th>...</th>\n",
              "      <td>...</td>\n",
              "      <td>...</td>\n",
              "      <td>...</td>\n",
              "      <td>...</td>\n",
              "      <td>...</td>\n",
              "      <td>...</td>\n",
              "      <td>...</td>\n",
              "      <td>...</td>\n",
              "      <td>...</td>\n",
              "      <td>...</td>\n",
              "      <td>...</td>\n",
              "      <td>...</td>\n",
              "      <td>...</td>\n",
              "      <td>...</td>\n",
              "      <td>...</td>\n",
              "    </tr>\n",
              "    <tr>\n",
              "      <th>66</th>\n",
              "      <td>116</td>\n",
              "      <td>Out</td>\n",
              "      <td>Australia</td>\n",
              "      <td>3</td>\n",
              "      <td>1</td>\n",
              "      <td>96.67</td>\n",
              "      <td>Vidarbha Cricket Association Stadium</td>\n",
              "      <td>Nagpur</td>\n",
              "      <td>Home</td>\n",
              "      <td>05-03-2019</td>\n",
              "      <td>Won</td>\n",
              "      <td>ODI</td>\n",
              "      <td>Yes</td>\n",
              "      <td>Yes</td>\n",
              "      <td>NaN</td>\n",
              "    </tr>\n",
              "    <tr>\n",
              "      <th>67</th>\n",
              "      <td>123</td>\n",
              "      <td>Out</td>\n",
              "      <td>Australia</td>\n",
              "      <td>3</td>\n",
              "      <td>2</td>\n",
              "      <td>129.47</td>\n",
              "      <td>JSCA International Stadium</td>\n",
              "      <td>Ranchi</td>\n",
              "      <td>Home</td>\n",
              "      <td>08-03-2019</td>\n",
              "      <td>Lost</td>\n",
              "      <td>ODI</td>\n",
              "      <td>No</td>\n",
              "      <td>Yes</td>\n",
              "      <td>NaN</td>\n",
              "    </tr>\n",
              "    <tr>\n",
              "      <th>68</th>\n",
              "      <td>120</td>\n",
              "      <td>Out</td>\n",
              "      <td>West Indies</td>\n",
              "      <td>3</td>\n",
              "      <td>1</td>\n",
              "      <td>96.00</td>\n",
              "      <td>Queen's Park Oval</td>\n",
              "      <td>Port of Spain</td>\n",
              "      <td>Away</td>\n",
              "      <td>11-08-2019</td>\n",
              "      <td>Won</td>\n",
              "      <td>ODI</td>\n",
              "      <td>Yes</td>\n",
              "      <td>Yes</td>\n",
              "      <td>NaN</td>\n",
              "    </tr>\n",
              "    <tr>\n",
              "      <th>69</th>\n",
              "      <td>114</td>\n",
              "      <td>Not Out</td>\n",
              "      <td>West Indies</td>\n",
              "      <td>3</td>\n",
              "      <td>2</td>\n",
              "      <td>115.15</td>\n",
              "      <td>Queen's Park Oval</td>\n",
              "      <td>Port of Spain</td>\n",
              "      <td>Away</td>\n",
              "      <td>14-08-2019</td>\n",
              "      <td>Won</td>\n",
              "      <td>ODI</td>\n",
              "      <td>Yes</td>\n",
              "      <td>Yes</td>\n",
              "      <td>NaN</td>\n",
              "    </tr>\n",
              "    <tr>\n",
              "      <th>70</th>\n",
              "      <td>122</td>\n",
              "      <td>Not Out</td>\n",
              "      <td>Afganistan</td>\n",
              "      <td>1</td>\n",
              "      <td>1</td>\n",
              "      <td>200.00</td>\n",
              "      <td>Dubai International Cricket Stadium</td>\n",
              "      <td>Dubai</td>\n",
              "      <td>Away</td>\n",
              "      <td>08-09-2022</td>\n",
              "      <td>Won</td>\n",
              "      <td>T20I</td>\n",
              "      <td>Yes</td>\n",
              "      <td>No</td>\n",
              "      <td>NaN</td>\n",
              "    </tr>\n",
              "  </tbody>\n",
              "</table>\n",
              "<p>71 rows × 15 columns</p>\n",
              "</div>\n",
              "      <button class=\"colab-df-convert\" onclick=\"convertToInteractive('df-a4863bd8-ed63-4d8e-939c-a1cd511f8dcc')\"\n",
              "              title=\"Convert this dataframe to an interactive table.\"\n",
              "              style=\"display:none;\">\n",
              "        \n",
              "  <svg xmlns=\"http://www.w3.org/2000/svg\" height=\"24px\"viewBox=\"0 0 24 24\"\n",
              "       width=\"24px\">\n",
              "    <path d=\"M0 0h24v24H0V0z\" fill=\"none\"/>\n",
              "    <path d=\"M18.56 5.44l.94 2.06.94-2.06 2.06-.94-2.06-.94-.94-2.06-.94 2.06-2.06.94zm-11 1L8.5 8.5l.94-2.06 2.06-.94-2.06-.94L8.5 2.5l-.94 2.06-2.06.94zm10 10l.94 2.06.94-2.06 2.06-.94-2.06-.94-.94-2.06-.94 2.06-2.06.94z\"/><path d=\"M17.41 7.96l-1.37-1.37c-.4-.4-.92-.59-1.43-.59-.52 0-1.04.2-1.43.59L10.3 9.45l-7.72 7.72c-.78.78-.78 2.05 0 2.83L4 21.41c.39.39.9.59 1.41.59.51 0 1.02-.2 1.41-.59l7.78-7.78 2.81-2.81c.8-.78.8-2.07 0-2.86zM5.41 20L4 18.59l7.72-7.72 1.47 1.35L5.41 20z\"/>\n",
              "  </svg>\n",
              "      </button>\n",
              "      \n",
              "  <style>\n",
              "    .colab-df-container {\n",
              "      display:flex;\n",
              "      flex-wrap:wrap;\n",
              "      gap: 12px;\n",
              "    }\n",
              "\n",
              "    .colab-df-convert {\n",
              "      background-color: #E8F0FE;\n",
              "      border: none;\n",
              "      border-radius: 50%;\n",
              "      cursor: pointer;\n",
              "      display: none;\n",
              "      fill: #1967D2;\n",
              "      height: 32px;\n",
              "      padding: 0 0 0 0;\n",
              "      width: 32px;\n",
              "    }\n",
              "\n",
              "    .colab-df-convert:hover {\n",
              "      background-color: #E2EBFA;\n",
              "      box-shadow: 0px 1px 2px rgba(60, 64, 67, 0.3), 0px 1px 3px 1px rgba(60, 64, 67, 0.15);\n",
              "      fill: #174EA6;\n",
              "    }\n",
              "\n",
              "    [theme=dark] .colab-df-convert {\n",
              "      background-color: #3B4455;\n",
              "      fill: #D2E3FC;\n",
              "    }\n",
              "\n",
              "    [theme=dark] .colab-df-convert:hover {\n",
              "      background-color: #434B5C;\n",
              "      box-shadow: 0px 1px 3px 1px rgba(0, 0, 0, 0.15);\n",
              "      filter: drop-shadow(0px 1px 2px rgba(0, 0, 0, 0.3));\n",
              "      fill: #FFFFFF;\n",
              "    }\n",
              "  </style>\n",
              "\n",
              "      <script>\n",
              "        const buttonEl =\n",
              "          document.querySelector('#df-a4863bd8-ed63-4d8e-939c-a1cd511f8dcc button.colab-df-convert');\n",
              "        buttonEl.style.display =\n",
              "          google.colab.kernel.accessAllowed ? 'block' : 'none';\n",
              "\n",
              "        async function convertToInteractive(key) {\n",
              "          const element = document.querySelector('#df-a4863bd8-ed63-4d8e-939c-a1cd511f8dcc');\n",
              "          const dataTable =\n",
              "            await google.colab.kernel.invokeFunction('convertToInteractive',\n",
              "                                                     [key], {});\n",
              "          if (!dataTable) return;\n",
              "\n",
              "          const docLinkHtml = 'Like what you see? Visit the ' +\n",
              "            '<a target=\"_blank\" href=https://colab.research.google.com/notebooks/data_table.ipynb>data table notebook</a>'\n",
              "            + ' to learn more about interactive tables.';\n",
              "          element.innerHTML = '';\n",
              "          dataTable['output_type'] = 'display_data';\n",
              "          await google.colab.output.renderOutput(dataTable, element);\n",
              "          const docLink = document.createElement('div');\n",
              "          docLink.innerHTML = docLinkHtml;\n",
              "          element.appendChild(docLink);\n",
              "        }\n",
              "      </script>\n",
              "    </div>\n",
              "  </div>\n",
              "  "
            ]
          },
          "metadata": {},
          "execution_count": 46
        }
      ],
      "source": [
        "import pandas as pd\n",
        "df = pd.read_csv('/content/71 Centuries of Virat Kohli.csv')\n",
        "df\n"
      ]
    },
    {
      "cell_type": "code",
      "source": [
        "df.info()\n"
      ],
      "metadata": {
        "id": "ihThGTLqsAho",
        "colab": {
          "base_uri": "https://localhost:8080/"
        },
        "outputId": "ce60fced-ab33-460e-a6d7-480a439772ce"
      },
      "execution_count": null,
      "outputs": [
        {
          "output_type": "stream",
          "name": "stdout",
          "text": [
            "<class 'pandas.core.frame.DataFrame'>\n",
            "RangeIndex: 71 entries, 0 to 70\n",
            "Data columns (total 15 columns):\n",
            " #   Column            Non-Null Count  Dtype  \n",
            "---  ------            --------------  -----  \n",
            " 0   Score             71 non-null     int64  \n",
            " 1   Out/Not Out       71 non-null     object \n",
            " 2   Against           71 non-null     object \n",
            " 3   Batting Order     71 non-null     int64  \n",
            " 4   Inn.              71 non-null     int64  \n",
            " 5   Strike Rate       44 non-null     float64\n",
            " 6   Venue             71 non-null     object \n",
            " 7   Column1           71 non-null     object \n",
            " 8   H/A               71 non-null     object \n",
            " 9   Date              71 non-null     object \n",
            " 10  Result            71 non-null     object \n",
            " 11  Format            71 non-null     object \n",
            " 12  Man of the Match  71 non-null     object \n",
            " 13  Captain           71 non-null     object \n",
            " 14  Unnamed: 14       0 non-null      float64\n",
            "dtypes: float64(2), int64(3), object(10)\n",
            "memory usage: 8.4+ KB\n"
          ]
        }
      ]
    },
    {
      "cell_type": "code",
      "source": [
        "df.shape"
      ],
      "metadata": {
        "id": "YnJ4Z6gJsHWJ",
        "colab": {
          "base_uri": "https://localhost:8080/"
        },
        "outputId": "ed3b9e1e-11c1-4b1c-df42-bba0c3496cfa"
      },
      "execution_count": null,
      "outputs": [
        {
          "output_type": "execute_result",
          "data": {
            "text/plain": [
              "(71, 15)"
            ]
          },
          "metadata": {},
          "execution_count": 48
        }
      ]
    },
    {
      "cell_type": "code",
      "source": [
        "df.size"
      ],
      "metadata": {
        "id": "h8NCTnaPsLcc",
        "colab": {
          "base_uri": "https://localhost:8080/"
        },
        "outputId": "43f4d724-6f25-42c3-ee71-e9e9781c33fb"
      },
      "execution_count": null,
      "outputs": [
        {
          "output_type": "execute_result",
          "data": {
            "text/plain": [
              "1065"
            ]
          },
          "metadata": {},
          "execution_count": 49
        }
      ]
    },
    {
      "cell_type": "code",
      "source": [
        "import matplotlib.pyplot as plt\n",
        "plt.bar(df['Score'],df['Result'])\n"
      ],
      "metadata": {
        "id": "xV9IJXSKsOYR",
        "colab": {
          "base_uri": "https://localhost:8080/",
          "height": 282
        },
        "outputId": "08b33f1c-396c-45f8-ea1b-8de409364432"
      },
      "execution_count": null,
      "outputs": [
        {
          "output_type": "execute_result",
          "data": {
            "text/plain": [
              "<BarContainer object of 71 artists>"
            ]
          },
          "metadata": {},
          "execution_count": 50
        },
        {
          "output_type": "display_data",
          "data": {
            "text/plain": [
              "<Figure size 432x288 with 1 Axes>"
            ],
            "image/png": "[encoded data removed]"
          },
          "metadata": {
            "needs_background": "light"
          }
        }
      ]
    },
    {
      "cell_type": "code",
      "source": [],
      "metadata": {
        "id": "S_kFK9_LyhnS"
      },
      "execution_count": null,
      "outputs": []
    },
    {
      "cell_type": "code",
      "source": [
        "df\n",
        "\n"
      ],
      "metadata": {
        "id": "EVSYHlxNzqqc",
        "colab": {
          "base_uri": "https://localhost:8080/",
          "height": 832
        },
        "outputId": "3f4a7c2f-1478-4686-c4e1-71be797ac29a"
      },
      "execution_count": null,
      "outputs": [
        {
          "output_type": "execute_result",
          "data": {
            "text/plain": [
              "    Score Out/Not Out       Against  Batting Order  Inn.  Strike Rate  \\\n",
              "0     116         Out     Australia              6     2          NaN   \n",
              "1     103         Out   New Zealand              5     2          NaN   \n",
              "2     103         Out       England              5     2          NaN   \n",
              "3     107         Out     Australia              5     2          NaN   \n",
              "4     119         Out  South Africa              4     1          NaN   \n",
              "..    ...         ...           ...            ...   ...          ...   \n",
              "66    116         Out     Australia              3     1        96.67   \n",
              "67    123         Out     Australia              3     2       129.47   \n",
              "68    120         Out   West Indies              3     1        96.00   \n",
              "69    114     Not Out   West Indies              3     2       115.15   \n",
              "70    122     Not Out    Afganistan              1     1       200.00   \n",
              "\n",
              "                                   Venue         Column1   H/A        Date  \\\n",
              "0                          Adelaide Oval        Adelaide  Away  24-01-2012   \n",
              "1                 M. Chinnaswamy Stadium       Bangalore  Home  31-08-2012   \n",
              "2   Vidarbha Cricket Association Stadium          Nagpur  Home  13-12-2012   \n",
              "3              M. A. Chidambaram Stadium         Chennai  Home  22-02-2013   \n",
              "4                      Wanderers Stadium    Johannesburg  Away  18-12-2013   \n",
              "..                                   ...             ...   ...         ...   \n",
              "66  Vidarbha Cricket Association Stadium          Nagpur  Home  05-03-2019   \n",
              "67            JSCA International Stadium          Ranchi  Home  08-03-2019   \n",
              "68                     Queen's Park Oval   Port of Spain  Away  11-08-2019   \n",
              "69                     Queen's Park Oval   Port of Spain  Away  14-08-2019   \n",
              "70   Dubai International Cricket Stadium           Dubai  Away  08-09-2022   \n",
              "\n",
              "   Result Format Man of the Match Captain  Unnamed: 14  \n",
              "0    Lost   Test               No      No          NaN  \n",
              "1     Won   Test              Yes      No          NaN  \n",
              "2   Drawn   Test               No      No          NaN  \n",
              "3     Won   Test               No      No          NaN  \n",
              "4   Drawn   Test               No      No          NaN  \n",
              "..    ...    ...              ...     ...          ...  \n",
              "66    Won    ODI              Yes     Yes          NaN  \n",
              "67   Lost    ODI               No     Yes          NaN  \n",
              "68    Won    ODI              Yes     Yes          NaN  \n",
              "69    Won    ODI              Yes     Yes          NaN  \n",
              "70    Won   T20I              Yes      No          NaN  \n",
              "\n",
              "[71 rows x 15 columns]"
            ],
            "text/html": [
              "\n",
              "  <div id=\"df-25f9cca8-80bd-4281-ab48-2084aacea779\">\n",
              "    <div class=\"colab-df-container\">\n",
              "      <div>\n",
              "<style scoped>\n",
              "    .dataframe tbody tr th:only-of-type {\n",
              "        vertical-align: middle;\n",
              "    }\n",
              "\n",
              "    .dataframe tbody tr th {\n",
              "        vertical-align: top;\n",
              "    }\n",
              "\n",
              "    .dataframe thead th {\n",
              "        text-align: right;\n",
              "    }\n",
              "</style>\n",
              "<table border=\"1\" class=\"dataframe\">\n",
              "  <thead>\n",
              "    <tr style=\"text-align: right;\">\n",
              "      <th></th>\n",
              "      <th>Score</th>\n",
              "      <th>Out/Not Out</th>\n",
              "      <th>Against</th>\n",
              "      <th>Batting Order</th>\n",
              "      <th>Inn.</th>\n",
              "      <th>Strike Rate</th>\n",
              "      <th>Venue</th>\n",
              "      <th>Column1</th>\n",
              "      <th>H/A</th>\n",
              "      <th>Date</th>\n",
              "      <th>Result</th>\n",
              "      <th>Format</th>\n",
              "      <th>Man of the Match</th>\n",
              "      <th>Captain</th>\n",
              "      <th>Unnamed: 14</th>\n",
              "    </tr>\n",
              "  </thead>\n",
              "  <tbody>\n",
              "    <tr>\n",
              "      <th>0</th>\n",
              "      <td>116</td>\n",
              "      <td>Out</td>\n",
              "      <td>Australia</td>\n",
              "      <td>6</td>\n",
              "      <td>2</td>\n",
              "      <td>NaN</td>\n",
              "      <td>Adelaide Oval</td>\n",
              "      <td>Adelaide</td>\n",
              "      <td>Away</td>\n",
              "      <td>24-01-2012</td>\n",
              "      <td>Lost</td>\n",
              "      <td>Test</td>\n",
              "      <td>No</td>\n",
              "      <td>No</td>\n",
              "      <td>NaN</td>\n",
              "    </tr>\n",
              "    <tr>\n",
              "      <th>1</th>\n",
              "      <td>103</td>\n",
              "      <td>Out</td>\n",
              "      <td>New Zealand</td>\n",
              "      <td>5</td>\n",
              "      <td>2</td>\n",
              "      <td>NaN</td>\n",
              "      <td>M. Chinnaswamy Stadium</td>\n",
              "      <td>Bangalore</td>\n",
              "      <td>Home</td>\n",
              "      <td>31-08-2012</td>\n",
              "      <td>Won</td>\n",
              "      <td>Test</td>\n",
              "      <td>Yes</td>\n",
              "      <td>No</td>\n",
              "      <td>NaN</td>\n",
              "    </tr>\n",
              "    <tr>\n",
              "      <th>2</th>\n",
              "      <td>103</td>\n",
              "      <td>Out</td>\n",
              "      <td>England</td>\n",
              "      <td>5</td>\n",
              "      <td>2</td>\n",
              "      <td>NaN</td>\n",
              "      <td>Vidarbha Cricket Association Stadium</td>\n",
              "      <td>Nagpur</td>\n",
              "      <td>Home</td>\n",
              "      <td>13-12-2012</td>\n",
              "      <td>Drawn</td>\n",
              "      <td>Test</td>\n",
              "      <td>No</td>\n",
              "      <td>No</td>\n",
              "      <td>NaN</td>\n",
              "    </tr>\n",
              "    <tr>\n",
              "      <th>3</th>\n",
              "      <td>107</td>\n",
              "      <td>Out</td>\n",
              "      <td>Australia</td>\n",
              "      <td>5</td>\n",
              "      <td>2</td>\n",
              "      <td>NaN</td>\n",
              "      <td>M. A. Chidambaram Stadium</td>\n",
              "      <td>Chennai</td>\n",
              "      <td>Home</td>\n",
              "      <td>22-02-2013</td>\n",
              "      <td>Won</td>\n",
              "      <td>Test</td>\n",
              "      <td>No</td>\n",
              "      <td>No</td>\n",
              "      <td>NaN</td>\n",
              "    </tr>\n",
              "    <tr>\n",
              "      <th>4</th>\n",
              "      <td>119</td>\n",
              "      <td>Out</td>\n",
              "      <td>South Africa</td>\n",
              "      <td>4</td>\n",
              "      <td>1</td>\n",
              "      <td>NaN</td>\n",
              "      <td>Wanderers Stadium</td>\n",
              "      <td>Johannesburg</td>\n",
              "      <td>Away</td>\n",
              "      <td>18-12-2013</td>\n",
              "      <td>Drawn</td>\n",
              "      <td>Test</td>\n",
              "      <td>No</td>\n",
              "      <td>No</td>\n",
              "      <td>NaN</td>\n",
              "    </tr>\n",
              "    <tr>\n",
              "      <th>...</th>\n",
              "      <td>...</td>\n",
              "      <td>...</td>\n",
              "      <td>...</td>\n",
              "      <td>...</td>\n",
              "      <td>...</td>\n",
              "      <td>...</td>\n",
              "      <td>...</td>\n",
              "      <td>...</td>\n",
              "      <td>...</td>\n",
              "      <td>...</td>\n",
              "      <td>...</td>\n",
              "      <td>...</td>\n",
              "      <td>...</td>\n",
              "      <td>...</td>\n",
              "      <td>...</td>\n",
              "    </tr>\n",
              "    <tr>\n",
              "      <th>66</th>\n",
              "      <td>116</td>\n",
              "      <td>Out</td>\n",
              "      <td>Australia</td>\n",
              "      <td>3</td>\n",
              "      <td>1</td>\n",
              "      <td>96.67</td>\n",
              "      <td>Vidarbha Cricket Association Stadium</td>\n",
              "      <td>Nagpur</td>\n",
              "      <td>Home</td>\n",
              "      <td>05-03-2019</td>\n",
              "      <td>Won</td>\n",
              "      <td>ODI</td>\n",
              "      <td>Yes</td>\n",
              "      <td>Yes</td>\n",
              "      <td>NaN</td>\n",
              "    </tr>\n",
              "    <tr>\n",
              "      <th>67</th>\n",
              "      <td>123</td>\n",
              "      <td>Out</td>\n",
              "      <td>Australia</td>\n",
              "      <td>3</td>\n",
              "      <td>2</td>\n",
              "      <td>129.47</td>\n",
              "      <td>JSCA International Stadium</td>\n",
              "      <td>Ranchi</td>\n",
              "      <td>Home</td>\n",
              "      <td>08-03-2019</td>\n",
              "      <td>Lost</td>\n",
              "      <td>ODI</td>\n",
              "      <td>No</td>\n",
              "      <td>Yes</td>\n",
              "      <td>NaN</td>\n",
              "    </tr>\n",
              "    <tr>\n",
              "      <th>68</th>\n",
              "      <td>120</td>\n",
              "      <td>Out</td>\n",
              "      <td>West Indies</td>\n",
              "      <td>3</td>\n",
              "      <td>1</td>\n",
              "      <td>96.00</td>\n",
              "      <td>Queen's Park Oval</td>\n",
              "      <td>Port of Spain</td>\n",
              "      <td>Away</td>\n",
              "      <td>11-08-2019</td>\n",
              "      <td>Won</td>\n",
              "      <td>ODI</td>\n",
              "      <td>Yes</td>\n",
              "      <td>Yes</td>\n",
              "      <td>NaN</td>\n",
              "    </tr>\n",
              "    <tr>\n",
              "      <th>69</th>\n",
              "      <td>114</td>\n",
              "      <td>Not Out</td>\n",
              "      <td>West Indies</td>\n",
              "      <td>3</td>\n",
              "      <td>2</td>\n",
              "      <td>115.15</td>\n",
              "      <td>Queen's Park Oval</td>\n",
              "      <td>Port of Spain</td>\n",
              "      <td>Away</td>\n",
              "      <td>14-08-2019</td>\n",
              "      <td>Won</td>\n",
              "      <td>ODI</td>\n",
              "      <td>Yes</td>\n",
              "      <td>Yes</td>\n",
              "      <td>NaN</td>\n",
              "    </tr>\n",
              "    <tr>\n",
              "      <th>70</th>\n",
              "      <td>122</td>\n",
              "      <td>Not Out</td>\n",
              "      <td>Afganistan</td>\n",
              "      <td>1</td>\n",
              "      <td>1</td>\n",
              "      <td>200.00</td>\n",
              "      <td>Dubai International Cricket Stadium</td>\n",
              "      <td>Dubai</td>\n",
              "      <td>Away</td>\n",
              "      <td>08-09-2022</td>\n",
              "      <td>Won</td>\n",
              "      <td>T20I</td>\n",
              "      <td>Yes</td>\n",
              "      <td>No</td>\n",
              "      <td>NaN</td>\n",
              "    </tr>\n",
              "  </tbody>\n",
              "</table>\n",
              "<p>71 rows × 15 columns</p>\n",
              "</div>\n",
              "      <button class=\"colab-df-convert\" onclick=\"convertToInteractive('df-25f9cca8-80bd-4281-ab48-2084aacea779')\"\n",
              "              title=\"Convert this dataframe to an interactive table.\"\n",
              "              style=\"display:none;\">\n",
              "        \n",
              "  <svg xmlns=\"http://www.w3.org/2000/svg\" height=\"24px\"viewBox=\"0 0 24 24\"\n",
              "       width=\"24px\">\n",
              "    <path d=\"M0 0h24v24H0V0z\" fill=\"none\"/>\n",
              "    <path d=\"M18.56 5.44l.94 2.06.94-2.06 2.06-.94-2.06-.94-.94-2.06-.94 2.06-2.06.94zm-11 1L8.5 8.5l.94-2.06 2.06-.94-2.06-.94L8.5 2.5l-.94 2.06-2.06.94zm10 10l.94 2.06.94-2.06 2.06-.94-2.06-.94-.94-2.06-.94 2.06-2.06.94z\"/><path d=\"M17.41 7.96l-1.37-1.37c-.4-.4-.92-.59-1.43-.59-.52 0-1.04.2-1.43.59L10.3 9.45l-7.72 7.72c-.78.78-.78 2.05 0 2.83L4 21.41c.39.39.9.59 1.41.59.51 0 1.02-.2 1.41-.59l7.78-7.78 2.81-2.81c.8-.78.8-2.07 0-2.86zM5.41 20L4 18.59l7.72-7.72 1.47 1.35L5.41 20z\"/>\n",
              "  </svg>\n",
              "      </button>\n",
              "      \n",
              "  <style>\n",
              "    .colab-df-container {\n",
              "      display:flex;\n",
              "      flex-wrap:wrap;\n",
              "      gap: 12px;\n",
              "    }\n",
              "\n",
              "    .colab-df-convert {\n",
              "      background-color: #E8F0FE;\n",
              "      border: none;\n",
              "      border-radius: 50%;\n",
              "      cursor: pointer;\n",
              "      display: none;\n",
              "      fill: #1967D2;\n",
              "      height: 32px;\n",
              "      padding: 0 0 0 0;\n",
              "      width: 32px;\n",
              "    }\n",
              "\n",
              "    .colab-df-convert:hover {\n",
              "      background-color: #E2EBFA;\n",
              "      box-shadow: 0px 1px 2px rgba(60, 64, 67, 0.3), 0px 1px 3px 1px rgba(60, 64, 67, 0.15);\n",
              "      fill: #174EA6;\n",
              "    }\n",
              "\n",
              "    [theme=dark] .colab-df-convert {\n",
              "      background-color: #3B4455;\n",
              "      fill: #D2E3FC;\n",
              "    }\n",
              "\n",
              "    [theme=dark] .colab-df-convert:hover {\n",
              "      background-color: #434B5C;\n",
              "      box-shadow: 0px 1px 3px 1px rgba(0, 0, 0, 0.15);\n",
              "      filter: drop-shadow(0px 1px 2px rgba(0, 0, 0, 0.3));\n",
              "      fill: #FFFFFF;\n",
              "    }\n",
              "  </style>\n",
              "\n",
              "      <script>\n",
              "        const buttonEl =\n",
              "          document.querySelector('#df-25f9cca8-80bd-4281-ab48-2084aacea779 button.colab-df-convert');\n",
              "        buttonEl.style.display =\n",
              "          google.colab.kernel.accessAllowed ? 'block' : 'none';\n",
              "\n",
              "        async function convertToInteractive(key) {\n",
              "          const element = document.querySelector('#df-25f9cca8-80bd-4281-ab48-2084aacea779');\n",
              "          const dataTable =\n",
              "            await google.colab.kernel.invokeFunction('convertToInteractive',\n",
              "                                                     [key], {});\n",
              "          if (!dataTable) return;\n",
              "\n",
              "          const docLinkHtml = 'Like what you see? Visit the ' +\n",
              "            '<a target=\"_blank\" href=https://colab.research.google.com/notebooks/data_table.ipynb>data table notebook</a>'\n",
              "            + ' to learn more about interactive tables.';\n",
              "          element.innerHTML = '';\n",
              "          dataTable['output_type'] = 'display_data';\n",
              "          await google.colab.output.renderOutput(dataTable, element);\n",
              "          const docLink = document.createElement('div');\n",
              "          docLink.innerHTML = docLinkHtml;\n",
              "          element.appendChild(docLink);\n",
              "        }\n",
              "      </script>\n",
              "    </div>\n",
              "  </div>\n",
              "  "
            ]
          },
          "metadata": {},
          "execution_count": 51
        }
      ]
    },
    {
      "cell_type": "code",
      "source": [
        "df = df.drop(['Unnamed: 14'],axis=1)"
      ],
      "metadata": {
        "id": "BNKBLeTMKutA"
      },
      "execution_count": null,
      "outputs": []
    },
    {
      "cell_type": "code",
      "source": [
        "df\n",
        "df.info()\n",
        "df.shape\n"
      ],
      "metadata": {
        "colab": {
          "base_uri": "https://localhost:8080/"
        },
        "id": "VfdD6o1s36Wa",
        "outputId": "8ebbe870-818a-4079-e0f4-be1e1c8cd586"
      },
      "execution_count": null,
      "outputs": [
        {
          "output_type": "stream",
          "name": "stdout",
          "text": [
            "<class 'pandas.core.frame.DataFrame'>\n",
            "RangeIndex: 71 entries, 0 to 70\n",
            "Data columns (total 14 columns):\n",
            " #   Column            Non-Null Count  Dtype  \n",
            "---  ------            --------------  -----  \n",
            " 0   Score             71 non-null     int64  \n",
            " 1   Out/Not Out       71 non-null     object \n",
            " 2   Against           71 non-null     object \n",
            " 3   Batting Order     71 non-null     int64  \n",
            " 4   Inn.              71 non-null     int64  \n",
            " 5   Strike Rate       44 non-null     float64\n",
            " 6   Venue             71 non-null     object \n",
            " 7   Column1           71 non-null     object \n",
            " 8   H/A               71 non-null     object \n",
            " 9   Date              71 non-null     object \n",
            " 10  Result            71 non-null     object \n",
            " 11  Format            71 non-null     object \n",
            " 12  Man of the Match  71 non-null     object \n",
            " 13  Captain           71 non-null     object \n",
            "dtypes: float64(1), int64(3), object(10)\n",
            "memory usage: 7.9+ KB\n"
          ]
        },
        {
          "output_type": "execute_result",
          "data": {
            "text/plain": [
              "(71, 14)"
            ]
          },
          "metadata": {},
          "execution_count": 54
        }
      ]
    },
    {
      "cell_type": "code",
      "source": [
        "x = df.iloc[:,1].values\n",
        "x"
      ],
      "metadata": {
        "id": "oacQ_1Bktnmz",
        "colab": {
          "base_uri": "https://localhost:8080/"
        },
        "outputId": "110439c1-76df-4306-c365-2f8017b3f105"
      },
      "execution_count": null,
      "outputs": [
        {
          "output_type": "execute_result",
          "data": {
            "text/plain": [
              "array(['Out', 'Out', 'Out', 'Out', 'Out', 'Not Out', 'Out', 'Out', 'Out',\n",
              "       'Out', 'Out', 'Out', 'Out', 'Out', 'Out', 'Out', 'Not Out',\n",
              "       'Not Out', 'Out', 'Out', 'Out', 'Out', 'Out', 'Out', 'Out',\n",
              "       'Not Out', 'Out', 'Out', 'Not Out', 'Out', 'Out', 'Not Out', 'Out',\n",
              "       'Not Out', 'Out', 'Not Out', 'Out', 'Out', 'Out', 'Not Out', 'Out',\n",
              "       'Out', 'Not Out', 'Not Out', 'Out', 'Out', 'Out', 'Not Out', 'Out',\n",
              "       'Out', 'Out', 'Out', 'Not Out', 'Out', 'Not Out', 'Out', 'Not Out',\n",
              "       'Out', 'Out', 'Out', 'Not Out', 'Not Out', 'Out', 'Not Out', 'Out',\n",
              "       'Out', 'Out', 'Out', 'Out', 'Not Out', 'Not Out'], dtype=object)"
            ]
          },
          "metadata": {},
          "execution_count": 95
        }
      ]
    },
    {
      "cell_type": "code",
      "source": [
        "y = df.iloc[:,10].values\n",
        "y"
      ],
      "metadata": {
        "id": "7vU9RooxvUK7"
      },
      "execution_count": null,
      "outputs": []
    },
    {
      "cell_type": "code",
      "source": [
        "from sklearn.model_selection import train_test_split\n",
        "x_train,x_test,y_train,y_test = train_test_split(x,y,random_state=0)"
      ],
      "metadata": {
        "id": "ierlYW_dv2oK"
      },
      "execution_count": null,
      "outputs": []
    },
    {
      "cell_type": "code",
      "source": [
        "#apply TFidfvectorizer\n",
        "from sklearn.feature_extraction.text import TfidfVectorizer\n",
        "tf=TfidfVectorizer()\n",
        "#tfg = x_train.flatten()\n",
        "#ghi = x_test.flatten()\n",
        "x_train_v = tf.fit_transform(x_train)\n",
        "x_test_v = tf.transform(x_test)"
      ],
      "metadata": {
        "id": "RssI3COz1g_C"
      },
      "execution_count": null,
      "outputs": []
    },
    {
      "cell_type": "code",
      "source": [
        "from sklearn.svm import SVC\n",
        "model = SVC()"
      ],
      "metadata": {
        "id": "ZA9U7Jovwevu"
      },
      "execution_count": null,
      "outputs": []
    },
    {
      "cell_type": "code",
      "source": [
        "model.fit(x_train_v,y_train)"
      ],
      "metadata": {
        "id": "ftLm6-TjxEGL",
        "colab": {
          "base_uri": "https://localhost:8080/"
        },
        "outputId": "5ab01b4f-b613-4426-c100-96672793b8b3"
      },
      "execution_count": null,
      "outputs": [
        {
          "output_type": "execute_result",
          "data": {
            "text/plain": [
              "SVC()"
            ]
          },
          "metadata": {},
          "execution_count": 91
        }
      ]
    },
    {
      "cell_type": "code",
      "source": [
        "y_pred = model.predict(x_test_v)\n",
        "y_pred"
      ],
      "metadata": {
        "colab": {
          "base_uri": "https://localhost:8080/"
        },
        "id": "FR2UeIJ40RTk",
        "outputId": "c0582aba-4573-414d-e084-69643e195a89"
      },
      "execution_count": null,
      "outputs": [
        {
          "output_type": "execute_result",
          "data": {
            "text/plain": [
              "array(['Won', 'Won', 'Won', 'Won', 'Won', 'Won', 'Won', 'Won', 'Won',\n",
              "       'Won', 'Won', 'Won', 'Won', 'Won', 'Won', 'Won', 'Won', 'Won'],\n",
              "      dtype=object)"
            ]
          },
          "metadata": {},
          "execution_count": 92
        }
      ]
    },
    {
      "cell_type": "code",
      "source": [
        "y_test"
      ],
      "metadata": {
        "colab": {
          "base_uri": "https://localhost:8080/"
        },
        "id": "C9tVdonv0ujE",
        "outputId": "e68d4e05-8406-4158-f74c-314697597fa1"
      },
      "execution_count": null,
      "outputs": [
        {
          "output_type": "execute_result",
          "data": {
            "text/plain": [
              "array(['Won', 'Won', 'Won', 'Won', 'Won', 'Lost', 'Lost', 'Won', 'Won',\n",
              "       'Won', 'Won', 'Won', 'Won', 'Won', 'Won', 'Won', 'Won', 'Won'],\n",
              "      dtype=object)"
            ]
          },
          "metadata": {},
          "execution_count": 93
        }
      ]
    },
    {
      "cell_type": "code",
      "source": [
        "model.predict([[110,3]])"
      ],
      "metadata": {
        "colab": {
          "base_uri": "https://localhost:8080/"
        },
        "id": "g_vX6RVp2jZx",
        "outputId": "06f1cf84-8fb7-42b4-eb9b-beb9da05a315"
      },
      "execution_count": null,
      "outputs": [
        {
          "output_type": "execute_result",
          "data": {
            "text/plain": [
              "array(['Won'], dtype=object)"
            ]
          },
          "metadata": {},
          "execution_count": 140
        }
      ]
    },
    {
      "cell_type": "code",
      "source": [
        "from sklearn.metrics import accuracy_score\n",
        "accuracy_score(y_pred,y_test)*100"
      ],
      "metadata": {
        "colab": {
          "base_uri": "https://localhost:8080/"
        },
        "id": "wYA-QLFUJC6D",
        "outputId": "4f566706-5b41-4497-a4db-9e59430fd211"
      },
      "execution_count": null,
      "outputs": [
        {
          "output_type": "execute_result",
          "data": {
            "text/plain": [
              "88.88888888888889"
            ]
          },
          "metadata": {},
          "execution_count": 94
        }
      ]
    },
    {
      "cell_type": "code",
      "source": [
        "a = df['Out/Not Out'][6]\n",
        "a"
      ],
      "metadata": {
        "colab": {
          "base_uri": "https://localhost:8080/",
          "height": 36
        },
        "id": "jTGL8YznxrLC",
        "outputId": "f04d7cd2-b394-48e4-8942-50218f441237"
      },
      "execution_count": null,
      "outputs": [
        {
          "output_type": "execute_result",
          "data": {
            "text/plain": [
              "'Out'"
            ],
            "application/vnd.google.colaboratory.intrinsic+json": {
              "type": "string"
            }
          },
          "metadata": {},
          "execution_count": 97
        }
      ]
    },
    {
      "cell_type": "code",
      "source": [
        "from sklearn.pipeline import make_pipeline\n",
        "text_model = make_pipeline(TfidfVectorizer(),SVC())\n",
        "text_model.fit(x_train,y_train)"
      ],
      "metadata": {
        "colab": {
          "base_uri": "https://localhost:8080/"
        },
        "id": "g5-yToF9ykyk",
        "outputId": "15237b34-17b8-4fc2-b1a3-7b8d482014de"
      },
      "execution_count": null,
      "outputs": [
        {
          "output_type": "execute_result",
          "data": {
            "text/plain": [
              "Pipeline(steps=[('tfidfvectorizer', TfidfVectorizer()), ('svc', SVC())])"
            ]
          },
          "metadata": {},
          "execution_count": 98
        }
      ]
    },
    {
      "cell_type": "code",
      "source": [
        "y_pred1 = text_model.predict(x_test)\n",
        "y_pred1"
      ],
      "metadata": {
        "colab": {
          "base_uri": "https://localhost:8080/"
        },
        "id": "fWehLU6HzW1w",
        "outputId": "a85e6961-cca3-4c48-e1fd-703f014a3bbb"
      },
      "execution_count": null,
      "outputs": [
        {
          "output_type": "execute_result",
          "data": {
            "text/plain": [
              "array(['Won', 'Won', 'Won', 'Won', 'Won', 'Won', 'Won', 'Won', 'Won',\n",
              "       'Won', 'Won', 'Won', 'Won', 'Won', 'Won', 'Won', 'Won', 'Won'],\n",
              "      dtype=object)"
            ]
          },
          "metadata": {},
          "execution_count": 99
        }
      ]
    },
    {
      "cell_type": "code",
      "source": [
        "y_test"
      ],
      "metadata": {
        "colab": {
          "base_uri": "https://localhost:8080/"
        },
        "id": "M8aYRg2fzlhl",
        "outputId": "68a6899e-1470-41ff-c45f-f03cb6ff0fc3"
      },
      "execution_count": null,
      "outputs": [
        {
          "output_type": "execute_result",
          "data": {
            "text/plain": [
              "array(['Won', 'Won', 'Won', 'Won', 'Won', 'Lost', 'Lost', 'Won', 'Won',\n",
              "       'Won', 'Won', 'Won', 'Won', 'Won', 'Won', 'Won', 'Won', 'Won'],\n",
              "      dtype=object)"
            ]
          },
          "metadata": {},
          "execution_count": 100
        }
      ]
    },
    {
      "cell_type": "code",
      "source": [
        "accuracy_score(y_pred1,y_test)*100"
      ],
      "metadata": {
        "colab": {
          "base_uri": "https://localhost:8080/"
        },
        "id": "RBwSGo-nzqSi",
        "outputId": "001401c1-bf41-4ba0-8432-3e1e1b917fb3"
      },
      "execution_count": null,
      "outputs": [
        {
          "output_type": "execute_result",
          "data": {
            "text/plain": [
              "88.88888888888889"
            ]
          },
          "metadata": {},
          "execution_count": 101
        }
      ]
    },
    {
      "cell_type": "code",
      "source": [
        "import joblib\n",
        "joblib.dump(text_model,'virat')"
      ],
      "metadata": {
        "colab": {
          "base_uri": "https://localhost:8080/"
        },
        "id": "GQpaEKF5z0ly",
        "outputId": "76674095-aba2-4c2b-c78b-e8ad9f7b6b05"
      },
      "execution_count": null,
      "outputs": [
        {
          "output_type": "execute_result",
          "data": {
            "text/plain": [
              "['virat']"
            ]
          },
          "metadata": {},
          "execution_count": 102
        }
      ]
    },
    {
      "cell_type": "code",
      "source": [
        "%%writefile app.py\n",
        "import streamlit as st\n",
        "import joblib\n",
        "model = joblib.load('virat')\n",
        "st.title('Virat Centuries')\n",
        "ip = st.text_input('Enter the out/Notout')\n",
        "op = model.predict([ip])\n",
        "if st.button('predict'):\n",
        "  st.title(op[0])"
      ],
      "metadata": {
        "colab": {
          "base_uri": "https://localhost:8080/"
        },
        "id": "w-siSEB50o9F",
        "outputId": "e9e4853b-a8c3-4041-c7fe-2d28d6ad6101"
      },
      "execution_count": null,
      "outputs": [
        {
          "output_type": "stream",
          "name": "stdout",
          "text": [
            "Writing app.py\n"
          ]
        }
      ]
    }
  ]
}